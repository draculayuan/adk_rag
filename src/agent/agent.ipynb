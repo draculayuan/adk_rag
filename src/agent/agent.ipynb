{
 "cells": [
  {
   "cell_type": "code",
   "execution_count": 1,
   "id": "799013e7-44f2-4202-a091-ae7e5d11615d",
   "metadata": {
    "tags": []
   },
   "outputs": [],
   "source": [
    "from google import adk\n",
    "from google.adk.agents import LlmAgent\n",
    "from vertexai.preview.reasoning_engines import AdkApp\n",
    "from typing import List, Dict, Any\n",
    "from google.adk.tools import ToolContext\n",
    "from google.adk.sessions import InMemorySessionService\n",
    "from vertexai import agent_engines\n",
    "from google.adk.tools import ToolContext\n",
    "import vertexai\n",
    "\n",
    "import os\n",
    "os.sys.path.append(\"/home/jupyter/code_test/adk_rag/src/\")\n",
    "from common.vector_store import VectorStore\n",
    "from common.embedding_generator import EmbeddingGenerator"
   ]
  },
  {
   "cell_type": "code",
   "execution_count": 3,
   "id": "860ea6ac-86d5-4e45-8913-c7f2ec551772",
   "metadata": {
    "tags": []
   },
   "outputs": [],
   "source": [
    "vs = VectorStore()\n",
    "eg = EmbeddingGenerator()"
   ]
  },
  {
   "cell_type": "code",
   "execution_count": 51,
   "id": "cb7abb94-2184-42a2-8600-0cbe0695a5fc",
   "metadata": {
    "tags": []
   },
   "outputs": [],
   "source": [
    "def retrieve_answer(query: str):\n",
    "    #query_embedding = eg.generate_single_embedding(query)\n",
    "    #return vs.search_vectors(query_embedding)\n",
    "    return \"yeah\""
   ]
  },
  {
   "cell_type": "code",
   "execution_count": 52,
   "id": "2cc3e8f7-424c-4067-ad4f-a9dff15bfbcb",
   "metadata": {
    "tags": []
   },
   "outputs": [],
   "source": [
    "rag_agent = LlmAgent(\n",
    "    name=\"rag_agent\",\n",
    "    model=\"gemini-2.0-flash\",\n",
    "    description=\"An Agent that can provide answer to user questions based on retrieved context\",\n",
    "    instruction=(\n",
    "        \"You are an question answering agent who will answer user's question by retrieving knowledge from the knowledge base by running 'retrieve_answer(query)' function\"\n",
    "    ),\n",
    "    tools=[retrieve_answer],\n",
    ")\n"
   ]
  },
  {
   "cell_type": "code",
   "execution_count": 41,
   "id": "03f5adef-6f8e-4dfb-b49f-aa063b599999",
   "metadata": {
    "tags": []
   },
   "outputs": [],
   "source": [
    "vertexai.init(staging_bucket=\"gs://yuan_evernote_rag_cs\")"
   ]
  },
  {
   "cell_type": "code",
   "execution_count": 48,
   "id": "305a857d-8e6d-4283-b018-3169e566f6e5",
   "metadata": {
    "tags": []
   },
   "outputs": [
    {
     "name": "stdout",
     "output_type": "stream",
     "text": [
      "/home/jupyter/code_test/adk_rag/src/agent\n"
     ]
    }
   ],
   "source": [
    "!pwd"
   ]
  },
  {
   "cell_type": "code",
   "execution_count": 54,
   "id": "2d323c17-8297-4383-9a5d-234fff4b027c",
   "metadata": {
    "tags": []
   },
   "outputs": [
    {
     "ename": "NameError",
     "evalue": "name 'remote_app' is not defined",
     "output_type": "error",
     "traceback": [
      "\u001b[0;31m---------------------------------------------------------------------------\u001b[0m",
      "\u001b[0;31mNameError\u001b[0m                                 Traceback (most recent call last)",
      "Cell \u001b[0;32mIn[54], line 1\u001b[0m\n\u001b[0;32m----> 1\u001b[0m \u001b[43mremote_app\u001b[49m\u001b[38;5;241m.\u001b[39mdelete(force\u001b[38;5;241m=\u001b[39m\u001b[38;5;28;01mTrue\u001b[39;00m)\n",
      "\u001b[0;31mNameError\u001b[0m: name 'remote_app' is not defined"
     ]
    }
   ],
   "source": [
    "#remote_app.delete(force=True)"
   ]
  },
  {
   "cell_type": "code",
   "execution_count": 53,
   "id": "6e98ca70-f9a4-425e-8dfa-d9798952e158",
   "metadata": {
    "tags": []
   },
   "outputs": [
    {
     "name": "stdout",
     "output_type": "stream",
     "text": [
      "Deploying google.adk.agents.Agent as an application.\n",
      "Identified the following requirements: {'pydantic': '2.11.4', 'cloudpickle': '3.1.1', 'google-cloud-aiplatform': '1.92.0'}\n",
      "The following requirements are missing: {'pydantic', 'cloudpickle'}\n",
      "The following requirements are incompatible: {'google-cloud-aiplatform==1.92.0 (required: ==1.79.0)'}\n",
      "The following requirements are appended: {'pydantic==2.11.4', 'cloudpickle==3.1.1'}\n",
      "The final list of requirements: ['google-cloud-aiplatform[adk,agent_engines]==1.79.0', 'pydantic==2.11.4', 'cloudpickle==3.1.1']\n",
      "Using bucket yuan_evernote_rag_cs\n",
      "Wrote to gs://yuan_evernote_rag_cs/agent_engine/agent_engine.pkl\n",
      "Writing to gs://yuan_evernote_rag_cs/agent_engine/requirements.txt\n",
      "Creating in-memory tarfile of extra_packages\n",
      "Writing to gs://yuan_evernote_rag_cs/agent_engine/dependencies.tar.gz\n",
      "failed to generate schema for stream_query: `stream_query` is not fully defined; you should define `ContentDict`, then call `stream_query.model_rebuild()`.\n",
      "\n",
      "For further information visit https://errors.pydantic.dev/2.11/u/class-not-fully-defined\n",
      "Creating AgentEngine\n",
      "Create AgentEngine backing LRO: projects/163097687798/locations/us-central1/reasoningEngines/8781676225744601088/operations/3236865853106421760\n",
      "View progress and logs at https://console.cloud.google.com/logs/query?project=yuan-449301\n"
     ]
    },
    {
     "ename": "KeyboardInterrupt",
     "evalue": "",
     "output_type": "error",
     "traceback": [
      "\u001b[0;31m---------------------------------------------------------------------------\u001b[0m",
      "\u001b[0;31m_OperationNotComplete\u001b[0m                     Traceback (most recent call last)",
      "File \u001b[0;32m/opt/conda/envs/myenv/lib/python3.10/site-packages/google/api_core/retry/retry_unary.py:147\u001b[0m, in \u001b[0;36mretry_target\u001b[0;34m(target, predicate, sleep_generator, timeout, on_error, exception_factory, **kwargs)\u001b[0m\n\u001b[1;32m    146\u001b[0m \u001b[38;5;28;01mtry\u001b[39;00m:\n\u001b[0;32m--> 147\u001b[0m     result \u001b[38;5;241m=\u001b[39m \u001b[43mtarget\u001b[49m\u001b[43m(\u001b[49m\u001b[43m)\u001b[49m\n\u001b[1;32m    148\u001b[0m     \u001b[38;5;28;01mif\u001b[39;00m inspect\u001b[38;5;241m.\u001b[39misawaitable(result):\n",
      "File \u001b[0;32m/opt/conda/envs/myenv/lib/python3.10/site-packages/google/api_core/future/polling.py:120\u001b[0m, in \u001b[0;36mPollingFuture._done_or_raise\u001b[0;34m(self, retry)\u001b[0m\n\u001b[1;32m    119\u001b[0m \u001b[38;5;28;01mif\u001b[39;00m \u001b[38;5;129;01mnot\u001b[39;00m \u001b[38;5;28mself\u001b[39m\u001b[38;5;241m.\u001b[39mdone(retry\u001b[38;5;241m=\u001b[39mretry):\n\u001b[0;32m--> 120\u001b[0m     \u001b[38;5;28;01mraise\u001b[39;00m _OperationNotComplete()\n",
      "\u001b[0;31m_OperationNotComplete\u001b[0m: ",
      "\nDuring handling of the above exception, another exception occurred:\n",
      "\u001b[0;31mKeyboardInterrupt\u001b[0m                         Traceback (most recent call last)",
      "Cell \u001b[0;32mIn[53], line 1\u001b[0m\n\u001b[0;32m----> 1\u001b[0m remote_app \u001b[38;5;241m=\u001b[39m \u001b[43magent_engines\u001b[49m\u001b[38;5;241;43m.\u001b[39;49m\u001b[43mcreate\u001b[49m\u001b[43m(\u001b[49m\n\u001b[1;32m      2\u001b[0m \u001b[43m    \u001b[49m\u001b[43magent_engine\u001b[49m\u001b[38;5;241;43m=\u001b[39;49m\u001b[43mrag_agent\u001b[49m\u001b[43m,\u001b[49m\n\u001b[1;32m      3\u001b[0m \u001b[43m    \u001b[49m\u001b[43mrequirements\u001b[49m\u001b[38;5;241;43m=\u001b[39;49m\u001b[43m[\u001b[49m\n\u001b[1;32m      4\u001b[0m \u001b[43m        \u001b[49m\u001b[38;5;124;43m\"\u001b[39;49m\u001b[38;5;124;43mgoogle-cloud-aiplatform[adk,agent_engines]==1.79.0\u001b[39;49m\u001b[38;5;124;43m\"\u001b[39;49m\u001b[43m   \u001b[49m\n\u001b[1;32m      5\u001b[0m \u001b[43m    \u001b[49m\u001b[43m]\u001b[49m\u001b[43m,\u001b[49m\n\u001b[1;32m      6\u001b[0m \u001b[43m    \u001b[49m\u001b[38;5;66;43;03m#extra_packages=[\"/home/jupyter/code_test/adk_rag/src/common\"]\u001b[39;49;00m\n\u001b[1;32m      7\u001b[0m \u001b[43m)\u001b[49m\n",
      "File \u001b[0;32m/opt/conda/envs/myenv/lib/python3.10/site-packages/vertexai/agent_engines/__init__.py:146\u001b[0m, in \u001b[0;36mcreate\u001b[0;34m(agent_engine, requirements, display_name, description, gcs_dir_name, extra_packages, env_vars)\u001b[0m\n\u001b[1;32m     60\u001b[0m \u001b[38;5;28;01mdef\u001b[39;00m\u001b[38;5;250m \u001b[39m\u001b[38;5;21mcreate\u001b[39m(\n\u001b[1;32m     61\u001b[0m     agent_engine: Optional[Union[Queryable, OperationRegistrable]] \u001b[38;5;241m=\u001b[39m \u001b[38;5;28;01mNone\u001b[39;00m,\n\u001b[1;32m     62\u001b[0m     \u001b[38;5;241m*\u001b[39m,\n\u001b[0;32m   (...)\u001b[0m\n\u001b[1;32m     70\u001b[0m     ] \u001b[38;5;241m=\u001b[39m \u001b[38;5;28;01mNone\u001b[39;00m,\n\u001b[1;32m     71\u001b[0m ) \u001b[38;5;241m-\u001b[39m\u001b[38;5;241m>\u001b[39m AgentEngine:\n\u001b[1;32m     72\u001b[0m \u001b[38;5;250m    \u001b[39m\u001b[38;5;124;03m\"\"\"Creates a new Agent Engine.\u001b[39;00m\n\u001b[1;32m     73\u001b[0m \n\u001b[1;32m     74\u001b[0m \u001b[38;5;124;03m    The Agent Engine will be an instance of the `agent_engine` that\u001b[39;00m\n\u001b[0;32m   (...)\u001b[0m\n\u001b[1;32m    144\u001b[0m \u001b[38;5;124;03m        nonexistent file.\u001b[39;00m\n\u001b[1;32m    145\u001b[0m \u001b[38;5;124;03m    \"\"\"\u001b[39;00m\n\u001b[0;32m--> 146\u001b[0m     \u001b[38;5;28;01mreturn\u001b[39;00m \u001b[43mAgentEngine\u001b[49m\u001b[38;5;241;43m.\u001b[39;49m\u001b[43mcreate\u001b[49m\u001b[43m(\u001b[49m\n\u001b[1;32m    147\u001b[0m \u001b[43m        \u001b[49m\u001b[43magent_engine\u001b[49m\u001b[38;5;241;43m=\u001b[39;49m\u001b[43magent_engine\u001b[49m\u001b[43m,\u001b[49m\n\u001b[1;32m    148\u001b[0m \u001b[43m        \u001b[49m\u001b[43mrequirements\u001b[49m\u001b[38;5;241;43m=\u001b[39;49m\u001b[43mrequirements\u001b[49m\u001b[43m,\u001b[49m\n\u001b[1;32m    149\u001b[0m \u001b[43m        \u001b[49m\u001b[43mdisplay_name\u001b[49m\u001b[38;5;241;43m=\u001b[39;49m\u001b[43mdisplay_name\u001b[49m\u001b[43m,\u001b[49m\n\u001b[1;32m    150\u001b[0m \u001b[43m        \u001b[49m\u001b[43mdescription\u001b[49m\u001b[38;5;241;43m=\u001b[39;49m\u001b[43mdescription\u001b[49m\u001b[43m,\u001b[49m\n\u001b[1;32m    151\u001b[0m \u001b[43m        \u001b[49m\u001b[43mgcs_dir_name\u001b[49m\u001b[38;5;241;43m=\u001b[39;49m\u001b[43mgcs_dir_name\u001b[49m\u001b[43m,\u001b[49m\n\u001b[1;32m    152\u001b[0m \u001b[43m        \u001b[49m\u001b[43mextra_packages\u001b[49m\u001b[38;5;241;43m=\u001b[39;49m\u001b[43mextra_packages\u001b[49m\u001b[43m,\u001b[49m\n\u001b[1;32m    153\u001b[0m \u001b[43m        \u001b[49m\u001b[43menv_vars\u001b[49m\u001b[38;5;241;43m=\u001b[39;49m\u001b[43menv_vars\u001b[49m\u001b[43m,\u001b[49m\n\u001b[1;32m    154\u001b[0m \u001b[43m    \u001b[49m\u001b[43m)\u001b[49m\n",
      "File \u001b[0;32m/opt/conda/envs/myenv/lib/python3.10/site-packages/vertexai/agent_engines/_agent_engines.py:422\u001b[0m, in \u001b[0;36mAgentEngine.create\u001b[0;34m(cls, agent_engine, requirements, display_name, description, gcs_dir_name, extra_packages, env_vars)\u001b[0m\n\u001b[1;32m    418\u001b[0m _LOGGER\u001b[38;5;241m.\u001b[39mlog_create_with_lro(\u001b[38;5;28mcls\u001b[39m, operation_future)\n\u001b[1;32m    419\u001b[0m _LOGGER\u001b[38;5;241m.\u001b[39minfo(\n\u001b[1;32m    420\u001b[0m     \u001b[38;5;124mf\u001b[39m\u001b[38;5;124m\"\u001b[39m\u001b[38;5;124mView progress and logs at https://console.cloud.google.com/logs/query?project=\u001b[39m\u001b[38;5;132;01m{\u001b[39;00msdk_resource\u001b[38;5;241m.\u001b[39mproject\u001b[38;5;132;01m}\u001b[39;00m\u001b[38;5;124m\"\u001b[39m\n\u001b[1;32m    421\u001b[0m )\n\u001b[0;32m--> 422\u001b[0m created_resource \u001b[38;5;241m=\u001b[39m \u001b[43moperation_future\u001b[49m\u001b[38;5;241;43m.\u001b[39;49m\u001b[43mresult\u001b[49m\u001b[43m(\u001b[49m\u001b[43m)\u001b[49m\n\u001b[1;32m    423\u001b[0m _LOGGER\u001b[38;5;241m.\u001b[39minfo(\u001b[38;5;124mf\u001b[39m\u001b[38;5;124m\"\u001b[39m\u001b[38;5;132;01m{\u001b[39;00m\u001b[38;5;28mcls\u001b[39m\u001b[38;5;241m.\u001b[39m\u001b[38;5;18m__name__\u001b[39m\u001b[38;5;132;01m}\u001b[39;00m\u001b[38;5;124m created. Resource name: \u001b[39m\u001b[38;5;132;01m{\u001b[39;00mcreated_resource\u001b[38;5;241m.\u001b[39mname\u001b[38;5;132;01m}\u001b[39;00m\u001b[38;5;124m\"\u001b[39m)\n\u001b[1;32m    424\u001b[0m _LOGGER\u001b[38;5;241m.\u001b[39minfo(\u001b[38;5;124mf\u001b[39m\u001b[38;5;124m\"\u001b[39m\u001b[38;5;124mTo use this \u001b[39m\u001b[38;5;132;01m{\u001b[39;00m\u001b[38;5;28mcls\u001b[39m\u001b[38;5;241m.\u001b[39m\u001b[38;5;18m__name__\u001b[39m\u001b[38;5;132;01m}\u001b[39;00m\u001b[38;5;124m in another session:\u001b[39m\u001b[38;5;124m\"\u001b[39m)\n",
      "File \u001b[0;32m/opt/conda/envs/myenv/lib/python3.10/site-packages/google/api_core/future/polling.py:256\u001b[0m, in \u001b[0;36mPollingFuture.result\u001b[0;34m(self, timeout, retry, polling)\u001b[0m\n\u001b[1;32m    144\u001b[0m \u001b[38;5;28;01mdef\u001b[39;00m\u001b[38;5;250m \u001b[39m\u001b[38;5;21mresult\u001b[39m(\u001b[38;5;28mself\u001b[39m, timeout\u001b[38;5;241m=\u001b[39m_DEFAULT_VALUE, retry\u001b[38;5;241m=\u001b[39m\u001b[38;5;28;01mNone\u001b[39;00m, polling\u001b[38;5;241m=\u001b[39m\u001b[38;5;28;01mNone\u001b[39;00m):\n\u001b[1;32m    145\u001b[0m \u001b[38;5;250m    \u001b[39m\u001b[38;5;124;03m\"\"\"Get the result of the operation.\u001b[39;00m\n\u001b[1;32m    146\u001b[0m \n\u001b[1;32m    147\u001b[0m \u001b[38;5;124;03m    This method will poll for operation status periodically, blocking if\u001b[39;00m\n\u001b[0;32m   (...)\u001b[0m\n\u001b[1;32m    253\u001b[0m \u001b[38;5;124;03m            the timeout is reached before the operation completes.\u001b[39;00m\n\u001b[1;32m    254\u001b[0m \u001b[38;5;124;03m    \"\"\"\u001b[39;00m\n\u001b[0;32m--> 256\u001b[0m     \u001b[38;5;28;43mself\u001b[39;49m\u001b[38;5;241;43m.\u001b[39;49m\u001b[43m_blocking_poll\u001b[49m\u001b[43m(\u001b[49m\u001b[43mtimeout\u001b[49m\u001b[38;5;241;43m=\u001b[39;49m\u001b[43mtimeout\u001b[49m\u001b[43m,\u001b[49m\u001b[43m \u001b[49m\u001b[43mretry\u001b[49m\u001b[38;5;241;43m=\u001b[39;49m\u001b[43mretry\u001b[49m\u001b[43m,\u001b[49m\u001b[43m \u001b[49m\u001b[43mpolling\u001b[49m\u001b[38;5;241;43m=\u001b[39;49m\u001b[43mpolling\u001b[49m\u001b[43m)\u001b[49m\n\u001b[1;32m    258\u001b[0m     \u001b[38;5;28;01mif\u001b[39;00m \u001b[38;5;28mself\u001b[39m\u001b[38;5;241m.\u001b[39m_exception \u001b[38;5;129;01mis\u001b[39;00m \u001b[38;5;129;01mnot\u001b[39;00m \u001b[38;5;28;01mNone\u001b[39;00m:\n\u001b[1;32m    259\u001b[0m         \u001b[38;5;66;03m# pylint: disable=raising-bad-type\u001b[39;00m\n\u001b[1;32m    260\u001b[0m         \u001b[38;5;66;03m# Pylint doesn't recognize that this is valid in this case.\u001b[39;00m\n\u001b[1;32m    261\u001b[0m         \u001b[38;5;28;01mraise\u001b[39;00m \u001b[38;5;28mself\u001b[39m\u001b[38;5;241m.\u001b[39m_exception\n",
      "File \u001b[0;32m/opt/conda/envs/myenv/lib/python3.10/site-packages/google/api_core/future/polling.py:137\u001b[0m, in \u001b[0;36mPollingFuture._blocking_poll\u001b[0;34m(self, timeout, retry, polling)\u001b[0m\n\u001b[1;32m    134\u001b[0m     polling \u001b[38;5;241m=\u001b[39m polling\u001b[38;5;241m.\u001b[39mwith_timeout(timeout)\n\u001b[1;32m    136\u001b[0m \u001b[38;5;28;01mtry\u001b[39;00m:\n\u001b[0;32m--> 137\u001b[0m     \u001b[43mpolling\u001b[49m\u001b[43m(\u001b[49m\u001b[38;5;28;43mself\u001b[39;49m\u001b[38;5;241;43m.\u001b[39;49m\u001b[43m_done_or_raise\u001b[49m\u001b[43m)\u001b[49m\u001b[43m(\u001b[49m\u001b[43mretry\u001b[49m\u001b[38;5;241;43m=\u001b[39;49m\u001b[43mretry\u001b[49m\u001b[43m)\u001b[49m\n\u001b[1;32m    138\u001b[0m \u001b[38;5;28;01mexcept\u001b[39;00m exceptions\u001b[38;5;241m.\u001b[39mRetryError:\n\u001b[1;32m    139\u001b[0m     \u001b[38;5;28;01mraise\u001b[39;00m concurrent\u001b[38;5;241m.\u001b[39mfutures\u001b[38;5;241m.\u001b[39mTimeoutError(\n\u001b[1;32m    140\u001b[0m         \u001b[38;5;124mf\u001b[39m\u001b[38;5;124m\"\u001b[39m\u001b[38;5;124mOperation did not complete within the designated timeout of \u001b[39m\u001b[38;5;124m\"\u001b[39m\n\u001b[1;32m    141\u001b[0m         \u001b[38;5;124mf\u001b[39m\u001b[38;5;124m\"\u001b[39m\u001b[38;5;132;01m{\u001b[39;00mpolling\u001b[38;5;241m.\u001b[39mtimeout\u001b[38;5;132;01m}\u001b[39;00m\u001b[38;5;124m seconds.\u001b[39m\u001b[38;5;124m\"\u001b[39m\n\u001b[1;32m    142\u001b[0m     )\n",
      "File \u001b[0;32m/opt/conda/envs/myenv/lib/python3.10/site-packages/google/api_core/retry/retry_unary.py:294\u001b[0m, in \u001b[0;36mRetry.__call__.<locals>.retry_wrapped_func\u001b[0;34m(*args, **kwargs)\u001b[0m\n\u001b[1;32m    290\u001b[0m target \u001b[38;5;241m=\u001b[39m functools\u001b[38;5;241m.\u001b[39mpartial(func, \u001b[38;5;241m*\u001b[39margs, \u001b[38;5;241m*\u001b[39m\u001b[38;5;241m*\u001b[39mkwargs)\n\u001b[1;32m    291\u001b[0m sleep_generator \u001b[38;5;241m=\u001b[39m exponential_sleep_generator(\n\u001b[1;32m    292\u001b[0m     \u001b[38;5;28mself\u001b[39m\u001b[38;5;241m.\u001b[39m_initial, \u001b[38;5;28mself\u001b[39m\u001b[38;5;241m.\u001b[39m_maximum, multiplier\u001b[38;5;241m=\u001b[39m\u001b[38;5;28mself\u001b[39m\u001b[38;5;241m.\u001b[39m_multiplier\n\u001b[1;32m    293\u001b[0m )\n\u001b[0;32m--> 294\u001b[0m \u001b[38;5;28;01mreturn\u001b[39;00m \u001b[43mretry_target\u001b[49m\u001b[43m(\u001b[49m\n\u001b[1;32m    295\u001b[0m \u001b[43m    \u001b[49m\u001b[43mtarget\u001b[49m\u001b[43m,\u001b[49m\n\u001b[1;32m    296\u001b[0m \u001b[43m    \u001b[49m\u001b[38;5;28;43mself\u001b[39;49m\u001b[38;5;241;43m.\u001b[39;49m\u001b[43m_predicate\u001b[49m\u001b[43m,\u001b[49m\n\u001b[1;32m    297\u001b[0m \u001b[43m    \u001b[49m\u001b[43msleep_generator\u001b[49m\u001b[43m,\u001b[49m\n\u001b[1;32m    298\u001b[0m \u001b[43m    \u001b[49m\u001b[43mtimeout\u001b[49m\u001b[38;5;241;43m=\u001b[39;49m\u001b[38;5;28;43mself\u001b[39;49m\u001b[38;5;241;43m.\u001b[39;49m\u001b[43m_timeout\u001b[49m\u001b[43m,\u001b[49m\n\u001b[1;32m    299\u001b[0m \u001b[43m    \u001b[49m\u001b[43mon_error\u001b[49m\u001b[38;5;241;43m=\u001b[39;49m\u001b[43mon_error\u001b[49m\u001b[43m,\u001b[49m\n\u001b[1;32m    300\u001b[0m \u001b[43m\u001b[49m\u001b[43m)\u001b[49m\n",
      "File \u001b[0;32m/opt/conda/envs/myenv/lib/python3.10/site-packages/google/api_core/retry/retry_unary.py:167\u001b[0m, in \u001b[0;36mretry_target\u001b[0;34m(target, predicate, sleep_generator, timeout, on_error, exception_factory, **kwargs)\u001b[0m\n\u001b[1;32m    156\u001b[0m next_sleep \u001b[38;5;241m=\u001b[39m _retry_error_helper(\n\u001b[1;32m    157\u001b[0m     exc,\n\u001b[1;32m    158\u001b[0m     deadline,\n\u001b[0;32m   (...)\u001b[0m\n\u001b[1;32m    164\u001b[0m     timeout,\n\u001b[1;32m    165\u001b[0m )\n\u001b[1;32m    166\u001b[0m \u001b[38;5;66;03m# if exception not raised, sleep before next attempt\u001b[39;00m\n\u001b[0;32m--> 167\u001b[0m \u001b[43mtime\u001b[49m\u001b[38;5;241;43m.\u001b[39;49m\u001b[43msleep\u001b[49m\u001b[43m(\u001b[49m\u001b[43mnext_sleep\u001b[49m\u001b[43m)\u001b[49m\n",
      "\u001b[0;31mKeyboardInterrupt\u001b[0m: "
     ]
    }
   ],
   "source": [
    "\n",
    "remote_app = agent_engines.create(\n",
    "    agent_engine=rag_agent,\n",
    "    requirements=[\n",
    "        \"google-cloud-aiplatform[adk,agent_engines]==1.79.0\"   \n",
    "    ],\n",
    "    #extra_packages=[\"/home/jupyter/code_test/adk_rag/src/common\"]\n",
    ")"
   ]
  },
  {
   "cell_type": "code",
   "execution_count": null,
   "id": "ed2ecc19-71c5-4f87-afa9-d4c96b205f2a",
   "metadata": {},
   "outputs": [],
   "source": []
  },
  {
   "cell_type": "code",
   "execution_count": null,
   "id": "ef795772-24b6-474b-b372-556dcb9ebb92",
   "metadata": {},
   "outputs": [],
   "source": []
  },
  {
   "cell_type": "code",
   "execution_count": null,
   "id": "a3c1b9e5-32ef-43e9-a6a2-b6807a0c0b8c",
   "metadata": {},
   "outputs": [],
   "source": []
  },
  {
   "cell_type": "code",
   "execution_count": 32,
   "id": "14aa70a5-924c-4397-82d6-a9b807ad23b7",
   "metadata": {
    "tags": []
   },
   "outputs": [],
   "source": [
    "\n",
    "# Wrap the agent in an AdkApp for deployment\n",
    "app = AdkApp(agent=rag_agent)"
   ]
  },
  {
   "cell_type": "code",
   "execution_count": 33,
   "id": "f5ed6625-f29f-4fec-9742-27088cd38315",
   "metadata": {
    "tags": []
   },
   "outputs": [
    {
     "data": {
      "text/plain": [
       "Session(id='34fd7f4f-11b8-4a16-b91d-4267edc934e7', app_name='default-app-name', user_id='u_123', state={}, events=[], last_update_time=1747407738.406505)"
      ]
     },
     "execution_count": 33,
     "metadata": {},
     "output_type": "execute_result"
    }
   ],
   "source": [
    "session = app.create_session(user_id=\"u_123\")\n",
    "session"
   ]
  },
  {
   "cell_type": "code",
   "execution_count": 36,
   "id": "b2fbd48c-2841-4cb8-b401-ac288f6b399b",
   "metadata": {
    "tags": []
   },
   "outputs": [
    {
     "name": "stderr",
     "output_type": "stream",
     "text": [
      "Warning: there are non-text parts in the response: ['function_call'],returning concatenated text result from text parts,check out the non text parts for full response from model.\n",
      "Exception in thread Thread-24 (_asyncio_thread_main):\n",
      "Traceback (most recent call last):\n",
      "  File \"/opt/conda/envs/myenv/lib/python3.10/threading.py\", line 1016, in _bootstrap_inner\n",
      "    self.run()\n",
      "  File \"/opt/conda/envs/myenv/lib/python3.10/site-packages/ipykernel/ipkernel.py\", line 766, in run_closure\n",
      "    _threading_Thread_run(self)\n",
      "  File \"/opt/conda/envs/myenv/lib/python3.10/threading.py\", line 953, in run\n",
      "    self._target(*self._args, **self._kwargs)\n",
      "  File \"/opt/conda/envs/myenv/lib/python3.10/site-packages/google/adk/runners.py\", line 138, in _asyncio_thread_main\n",
      "    asyncio.run(_invoke_run_async())\n",
      "  File \"/opt/conda/envs/myenv/lib/python3.10/asyncio/runners.py\", line 44, in run\n",
      "    return loop.run_until_complete(main)\n",
      "  File \"/opt/conda/envs/myenv/lib/python3.10/asyncio/base_events.py\", line 649, in run_until_complete\n",
      "    return future.result()\n",
      "  File \"/opt/conda/envs/myenv/lib/python3.10/site-packages/google/adk/runners.py\", line 126, in _invoke_run_async\n",
      "    async for event in self.run_async(\n",
      "  File \"/opt/conda/envs/myenv/lib/python3.10/site-packages/google/adk/runners.py\", line 197, in run_async\n",
      "    async for event in invocation_context.agent.run_async(invocation_context):\n",
      "  File \"/opt/conda/envs/myenv/lib/python3.10/site-packages/google/adk/agents/base_agent.py\", line 133, in run_async\n",
      "    async for event in self._run_async_impl(ctx):\n",
      "  File \"/opt/conda/envs/myenv/lib/python3.10/site-packages/google/adk/agents/llm_agent.py\", line 246, in _run_async_impl\n",
      "    async for event in self._llm_flow.run_async(ctx):\n",
      "  File \"/opt/conda/envs/myenv/lib/python3.10/site-packages/google/adk/flows/llm_flows/base_llm_flow.py\", line 243, in run_async\n",
      "    async for event in self._run_one_step_async(invocation_context):\n",
      "  File \"/opt/conda/envs/myenv/lib/python3.10/site-packages/google/adk/flows/llm_flows/base_llm_flow.py\", line 272, in _run_one_step_async\n",
      "    async for event in self._postprocess_async(\n",
      "  File \"/opt/conda/envs/myenv/lib/python3.10/site-packages/google/adk/flows/llm_flows/base_llm_flow.py\", line 342, in _postprocess_async\n",
      "    async for event in self._postprocess_handle_function_calls_async(\n",
      "  File \"/opt/conda/envs/myenv/lib/python3.10/site-packages/google/adk/flows/llm_flows/base_llm_flow.py\", line 417, in _postprocess_handle_function_calls_async\n",
      "    if function_response_event := await functions.handle_function_calls_async(\n",
      "  File \"/opt/conda/envs/myenv/lib/python3.10/site-packages/google/adk/flows/llm_flows/functions.py\", line 165, in handle_function_calls_async\n",
      "    function_response = await __call_tool_async(\n",
      "  File \"/opt/conda/envs/myenv/lib/python3.10/site-packages/google/adk/flows/llm_flows/functions.py\", line 430, in __call_tool_async\n",
      "    return await tool.run_async(args=args, tool_context=tool_context)\n",
      "  File \"/opt/conda/envs/myenv/lib/python3.10/site-packages/google/adk/tools/function_tool.py\", line 82, in run_async\n",
      "    return self.func(**args_to_call) or {}\n",
      "  File \"/var/tmp/ipykernel_126254/4235595194.py\", line 2, in retrieve_answer\n",
      "NameError: name 'embedder' is not defined\n"
     ]
    }
   ],
   "source": [
    "events = []\n",
    "for event in app.stream_query(\n",
    "    user_id=\"u_123\",\n",
    "    session_id=session.id,\n",
    "    message=\"what is LY's email\",\n",
    "):\n",
    "    events.append(event)"
   ]
  },
  {
   "cell_type": "code",
   "execution_count": 37,
   "id": "aed6e725-fed2-49fe-a440-5e8d0719c77e",
   "metadata": {
    "tags": []
   },
   "outputs": [
    {
     "data": {
      "text/plain": [
       "[{'content': {'parts': [{'function_call': {'id': 'adk-e6830db1-58a7-49d2-9f94-2b15a13fb052',\n",
       "      'args': {'query': \"What is LY's email address?\"},\n",
       "      'name': 'retrieve_answer'}}],\n",
       "   'role': 'model'},\n",
       "  'invocation_id': 'e-b5bd3971-29cf-4a78-b77e-3ce9a4213f7f',\n",
       "  'author': 'rag_agent',\n",
       "  'actions': {'state_delta': {},\n",
       "   'artifact_delta': {},\n",
       "   'requested_auth_configs': {}},\n",
       "  'long_running_tool_ids': set(),\n",
       "  'id': 'pH1dBQPQ',\n",
       "  'timestamp': 1747407752.809819}]"
      ]
     },
     "execution_count": 37,
     "metadata": {},
     "output_type": "execute_result"
    }
   ],
   "source": [
    "events"
   ]
  },
  {
   "cell_type": "code",
   "execution_count": null,
   "id": "1138c731-ee20-4bf2-b3af-2cb3e09134d6",
   "metadata": {},
   "outputs": [],
   "source": []
  }
 ],
 "metadata": {
  "environment": {
   "kernel": "myenv",
   "name": "tf2-gpu.2-17.m128",
   "type": "gcloud",
   "uri": "us-docker.pkg.dev/deeplearning-platform-release/gcr.io/tf2-gpu.2-17:m128"
  },
  "kernelspec": {
   "display_name": "Python (myenv) (Local)",
   "language": "python",
   "name": "myenv"
  },
  "language_info": {
   "codemirror_mode": {
    "name": "ipython",
    "version": 3
   },
   "file_extension": ".py",
   "mimetype": "text/x-python",
   "name": "python",
   "nbconvert_exporter": "python",
   "pygments_lexer": "ipython3",
   "version": "3.10.17"
  }
 },
 "nbformat": 4,
 "nbformat_minor": 5
}
